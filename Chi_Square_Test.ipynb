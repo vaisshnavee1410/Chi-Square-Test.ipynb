{
  "nbformat": 4,
  "nbformat_minor": 0,
  "metadata": {
    "colab": {
      "private_outputs": true,
      "provenance": [],
      "authorship_tag": "ABX9TyMcRWA/m0bD2M7YrP2xMqQy",
      "include_colab_link": true
    },
    "kernelspec": {
      "name": "python3",
      "display_name": "Python 3"
    },
    "language_info": {
      "name": "python"
    }
  },
  "cells": [
    {
      "cell_type": "markdown",
      "metadata": {
        "id": "view-in-github",
        "colab_type": "text"
      },
      "source": [
        "<a href=\"https://colab.research.google.com/github/vaisshnavee1410/Chi-Square-Test.ipynb/blob/main/Chi_Square_Test.ipynb\" target=\"_parent\"><img src=\"https://colab.research.google.com/assets/colab-badge.svg\" alt=\"Open In Colab\"/></a>"
      ]
    },
    {
      "cell_type": "markdown",
      "source": [
        "# **CHI-SQUARE TEST**"
      ],
      "metadata": {
        "id": "kWPCPINQThrY"
      }
    },
    {
      "cell_type": "markdown",
      "source": [
        "####ASSOCIATION BETWEEN DEVICE TYPE AND CUSTOMER SATISFACTION"
      ],
      "metadata": {
        "id": "XlI-T7IxThg-"
      }
    },
    {
      "cell_type": "markdown",
      "source": [
        "**Background:**"
      ],
      "metadata": {
        "id": "XdV2B4tjThYY"
      }
    },
    {
      "cell_type": "markdown",
      "source": [
        "Mizzare Corporation has collected data on customer satisfaction levels for two types of smart home\n",
        "devices:\n",
        "\n",
        "*   Smart Thermostats.\n",
        "*   Smart Lights.\n",
        "\n",
        "\n",
        "They want to determine if there's a significant\n",
        "association between the type of device purchased and the customer's satisfaction level."
      ],
      "metadata": {
        "id": "30sM05QBThNO"
      }
    },
    {
      "cell_type": "markdown",
      "source": [
        "#####**Data Provided:**"
      ],
      "metadata": {
        "id": "lmsIPKhnVOL8"
      }
    },
    {
      "cell_type": "markdown",
      "source": [
        "The data is summarized in a contingency table showing the counts of customers in each satisfaction\n",
        "level for both types of devices:"
      ],
      "metadata": {
        "id": "g_SeGFQAWNV7"
      }
    },
    {
      "cell_type": "markdown",
      "source": [
        "![Wi.jpg](data:image/jpeg;base64,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)"
      ],
      "metadata": {
        "id": "OX2h4trzTcWA"
      }
    },
    {
      "cell_type": "markdown",
      "source": [
        "#####**Objective:**"
      ],
      "metadata": {
        "id": "uXWEaianWXFU"
      }
    },
    {
      "cell_type": "markdown",
      "source": [
        "To use the Chi-Square test for independence to determine if there's a significant association\n",
        "between the type of smart home device purchased (Smart Thermostats vs. Smart Lights) and the\n",
        "customer satisfaction level."
      ],
      "metadata": {
        "id": "_efLdE6QWnEf"
      }
    },
    {
      "cell_type": "markdown",
      "source": [
        "\n",
        "\n",
        "###    **Assignment Tasks:**\n"
      ],
      "metadata": {
        "id": "QyXoHz60WrYP"
      }
    },
    {
      "cell_type": "markdown",
      "source": [
        "###### 1. State the Hypothesis:"
      ],
      "metadata": {
        "id": "jQc5Eu6aWrQ8"
      }
    },
    {
      "cell_type": "markdown",
      "source": [
        "We are performing a Chi-Square Test for Independence to check if customer satisfaction is associated with the type of smart home device purchased.\n",
        "\n",
        "  •\tNull Hypothesis (H_0): There is no association between the type of device purchased (Smart Thermostat or Smart Light) and customer satisfaction level. The two variables are independent.\n",
        "\n",
        "  •\tAlternative Hypothesis (H_1): There is a significant association between the type of device purchased and customer satisfaction level."
      ],
      "metadata": {
        "id": "BqjcQaYNYtKB"
      }
    },
    {
      "cell_type": "code",
      "source": [
        "import numpy as np\n",
        "from scipy.stats import chi2\n",
        "\n",
        "# Observed frequency table\n",
        "observed = np.array([\n",
        "    [50, 70],  # Very Satisfied\n",
        "    [80, 100], # Satisfied\n",
        "    [60, 90],  # Neutral\n",
        "    [30, 50],  # Unsatisfied\n",
        "    [20, 50]   # Very Unsatisfied\n",
        "])\n",
        "\n",
        "# Compute row and column totals\n",
        "row_totals = observed.sum(axis=1).reshape(-1, 1)\n",
        "col_totals = observed.sum(axis=0)\n",
        "grand_total = observed.sum()\n",
        "\n",
        "# Compute expected frequencies\n",
        "expected = (row_totals @ col_totals.reshape(1, -1)) / grand_total\n"
      ],
      "metadata": {
        "id": "Jht5EC0MZF8w"
      },
      "execution_count": null,
      "outputs": []
    },
    {
      "cell_type": "markdown",
      "source": [
        "2. Compute the Chi-Square Statistic:"
      ],
      "metadata": {
        "id": "M-t-M5ipWrJZ"
      }
    },
    {
      "cell_type": "code",
      "source": [
        "# Compute Chi-Square statistic\n",
        "chi_square_statistic = np.sum((observed - expected) ** 2 / expected)\n",
        "\n",
        "# Degrees of freedom: (rows - 1) * (columns - 1)\n",
        "df = (observed.shape[0] - 1) * (observed.shape[1] - 1)"
      ],
      "metadata": {
        "id": "dy3jLby-OFsa"
      },
      "execution_count": null,
      "outputs": []
    },
    {
      "cell_type": "markdown",
      "source": [
        "3. Determine the Critical Value:"
      ],
      "metadata": {
        "id": "bHn6N8uUaYQt"
      }
    },
    {
      "cell_type": "markdown",
      "source": [
        "   Using the significance level (alpha) of 0.05 and the degrees of freedom (which is the number of\n",
        "categories minus 1)"
      ],
      "metadata": {
        "id": "yUjL7RD8a_I9"
      }
    },
    {
      "cell_type": "code",
      "source": [
        "# Significance level\n",
        "alpha = 0.05\n",
        "\n",
        "# Critical value from Chi-Square distribution\n",
        "critical_value = chi2.ppf(1 - alpha, df)\n",
        "\n"
      ],
      "metadata": {
        "id": "kjQHsmGqaMlw"
      },
      "execution_count": null,
      "outputs": []
    },
    {
      "cell_type": "code",
      "source": [
        "# Print results\n",
        "print(f\"Chi-Square Statistic: {chi_square_statistic:.2f}\")\n",
        "print(f\"Critical Value: {critical_value:.2f}\")\n"
      ],
      "metadata": {
        "id": "Pk__bMYccCcP"
      },
      "execution_count": null,
      "outputs": []
    },
    {
      "cell_type": "markdown",
      "source": [
        "4. Make a decision:"
      ],
      "metadata": {
        "id": "0AHMho0ebL2A"
      }
    },
    {
      "cell_type": "markdown",
      "source": [
        "  \n",
        "  We compare the Chi-Square statistic with the critical value:\n",
        "\n",
        "    •\tChi-Square Statistic = 5.64\n",
        "    •\tCritical Value = 9.49\n",
        "\n",
        "Decision Rule:\n",
        "\n",
        "  •\tIf Chi-Square statistic > Critical Value, reject the null hypothesis (H_0).\n",
        "\n",
        "  •\tIf Chi-Square statistic ≤ Critical Value, fail to reject the null hypothesis (H_0).\n"
      ],
      "metadata": {
        "id": "WB4ZwoCXbjAD"
      }
    },
    {
      "cell_type": "code",
      "source": [
        "# Decision Rule\n",
        "if chi_square_statistic > critical_value:\n",
        "    print(\"Reject the null hypothesis: There is a significant association.\")\n",
        "else:\n",
        "    print(\"Fail to reject the null hypothesis: No significant association.\")"
      ],
      "metadata": {
        "id": "n7IZMcjyaxI4"
      },
      "execution_count": null,
      "outputs": []
    },
    {
      "cell_type": "markdown",
      "source": [
        "Since 5.64 < 9.49, we fail to reject the null hypothesis."
      ],
      "metadata": {
        "id": "e0PZDYNzf4GZ"
      }
    },
    {
      "cell_type": "markdown",
      "source": [
        "4. Make a decision:"
      ],
      "metadata": {
        "id": "gqaNdHeOcvFR"
      }
    },
    {
      "cell_type": "markdown",
      "source": [
        "Compare the Chi-Square statistic with the critical value to decide whether to reject the null\n",
        "hypothesis."
      ],
      "metadata": {
        "id": "Qt3ajaZxeKVt"
      }
    },
    {
      "cell_type": "markdown",
      "source": [
        "Decision Rule:\n",
        "\n",
        "   •\tNull Hypothesis (H_0): There is no association between the type of device purchased and customer satisfaction.\n",
        "\n",
        "  •\tAlternative Hypothesis (H_1): There is a significant association between the type of device purchased and customer satisfaction.\n",
        "\n",
        "We already calculated:\n",
        "\n",
        "\t•\tChi-Square Statistic = 5.64\n",
        "\t•\tDegrees of Freedom (df) = 4\n",
        "\t•\tCritical Value (from chi-square table at α = 0.05, df = 4) = 9.49\n",
        "\t•\tp-value = 0.22 (from chi2_contingency())\n",
        "\n",
        "Compare and Decide:\n",
        "\n",
        "  •\tIf Chi-Square statistic > Critical Value, reject H_0.\n",
        "\n",
        "  •\tIf Chi-Square statistic ≤ Critical Value, fail to reject H_0.\n",
        "\n",
        "Since 5.64 < 9.49, we fail to reject the null hypothesis."
      ],
      "metadata": {
        "id": "UAuxR7oFdPz1"
      }
    },
    {
      "cell_type": "markdown",
      "source": [
        "* **Explanation of the Code:**\n",
        "\n",
        "1.\tDefine the observed frequencies from the contingency table.\n",
        "2.\tUse chi2_contingency() from scipy.stats to calculate:\n",
        "\t      •\tChi-Square statistic (chi2_stat)\n",
        "\t      •\tp-value (p_value)\n",
        "\t      •\tDegrees of freedom (dof)\n",
        "\t      •\tExpected frequencies (expected)\n",
        "3.\tSet the significance level (alpha = 0.05).\n",
        "4.\tCalculate the critical value using the Chi-Square distribution table.\n",
        "5.\tCompare the Chi-Square statistic with the critical value:\n",
        "\n",
        "\n",
        "          •     If Chi-Square statistic > Critical value, reject the null hypothesis.\n",
        "      \t•     Otherwise, fail to reject the null hypothesis."
      ],
      "metadata": {
        "id": "xlPMugXeRw5-"
      }
    },
    {
      "cell_type": "markdown",
      "source": [
        "* **CONCLUSION.**"
      ],
      "metadata": {
        "id": "FGXI1eoDeybB"
      }
    },
    {
      "cell_type": "markdown",
      "source": [
        "There is no significant association between the type of smart home device purchased and customer satisfaction. This means that customer satisfaction levels do not significantly depend on whether they bought a Smart Thermostat or a Smart Light."
      ],
      "metadata": {
        "id": "JVyFLbOBfFM1"
      }
    }
  ]
}